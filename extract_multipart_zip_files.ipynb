{
  "nbformat": 4,
  "nbformat_minor": 0,
  "metadata": {
    "colab": {
      "name": "extract multipart zip files.ipynb",
      "provenance": [],
      "collapsed_sections": [],
      "include_colab_link": true
    },
    "kernelspec": {
      "name": "python3",
      "display_name": "Python 3"
    }
  },
  "cells": [
    {
      "cell_type": "markdown",
      "metadata": {
        "id": "view-in-github",
        "colab_type": "text"
      },
      "source": [
        "<a href=\"https://colab.research.google.com/github/haiueom/google-colab/blob/main/extract_multipart_zip_files.ipynb\" target=\"_parent\"><img src=\"https://colab.research.google.com/assets/colab-badge.svg\" alt=\"Open In Colab\"/></a>"
      ]
    },
    {
      "cell_type": "code",
      "metadata": {
        "id": "IquVhuVYTNYl"
      },
      "source": [
        "from google.colab import drive\n",
        "drive.mount('/content/drive')"
      ],
      "execution_count": null,
      "outputs": []
    },
    {
      "cell_type": "code",
      "metadata": {
        "id": "s06cm9jXV76l"
      },
      "source": [
        "#generate a single zip file from the parts of the multipart zip file\n",
        "       #path1:path of the multipart zip file     #Path2:output path for the generated zip file (multipart zip to single zip file)\n",
        "!zip -s- \"/content/drive/path/multipart.zip\" -O \"/content/drive/My Drive/test/Roxtar/out_full.zip\""
      ],
      "execution_count": null,
      "outputs": []
    },
    {
      "cell_type": "code",
      "metadata": {
        "id": "G6hMFUnHabU3"
      },
      "source": [
        "#extract generated zip file\n",
        "        #path1:path of the generated zip file  #path2:path of the output directory\n",
        "!unzip \"/content/drive/path/out_full.zip\" -d \"/content/drive/path/output/\""
      ],
      "execution_count": null,
      "outputs": []
    }
  ]
}